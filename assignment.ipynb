{
  "nbformat": 4,
  "nbformat_minor": 0,
  "metadata": {
    "colab": {
      "provenance": [],
      "gpuType": "T4",
      "authorship_tag": "ABX9TyOIi2RS57vX/aiFtM20N3pO",
      "include_colab_link": true
    },
    "kernelspec": {
      "name": "python3",
      "display_name": "Python 3"
    },
    "language_info": {
      "name": "python"
    },
    "accelerator": "GPU"
  },
  "cells": [
    {
      "cell_type": "markdown",
      "metadata": {
        "id": "view-in-github",
        "colab_type": "text"
      },
      "source": [
        "<a href=\"https://colab.research.google.com/github/Uzair-90/HSPSQL/blob/master/assignment.ipynb\" target=\"_parent\"><img src=\"https://colab.research.google.com/assets/colab-badge.svg\" alt=\"Open In Colab\"/></a>"
      ]
    },
    {
      "cell_type": "code",
      "source": [
        "from google.colab import drive\n",
        "drive.mount('/content/drive')"
      ],
      "metadata": {
        "colab": {
          "base_uri": "https://localhost:8080/"
        },
        "id": "O4EAJbOnHPad",
        "outputId": "729e0957-8dc6-4763-b849-e942271d86e1"
      },
      "execution_count": 3,
      "outputs": [
        {
          "output_type": "stream",
          "name": "stdout",
          "text": [
            "Drive already mounted at /content/drive; to attempt to forcibly remount, call drive.mount(\"/content/drive\", force_remount=True).\n"
          ]
        }
      ]
    },
    {
      "cell_type": "code",
      "source": [
        "import pandas as pd"
      ],
      "metadata": {
        "id": "3m9_I7-iH8FB"
      },
      "execution_count": 46,
      "outputs": []
    },
    {
      "cell_type": "code",
      "source": [
        "data_s = pd.read_csv (r'/content/drive/MyDrive/assignment_!/Lhr_Detail_94.txt')\n",
        "data_s.to_csv (r'/content/drive/MyDrive/assignment_!/Lhr_Detail_94.csv', index=None)\n",
        "data_d= pd.read_csv (r'/content/drive/MyDrive/assignment_!/Lhr_Student_94.txt')\n",
        "data_d.to_csv (r'/content/drive/MyDrive/assignment_!/Lhr_Student_94.csv', index=None)\n",
        "#data_s=data_s.iloc[:,1]\n",
        "df = pd.DataFrame(data_d)\n",
        "df2 = pd.DataFrame(data_s)\n",
        "# Split the 'Full Name' column into 'First Name' and 'Last Name' columns\n",
        "df[['First Name', 'Last Name']] = df['St_Name'].str.split(' ', 1, expand=True)\n",
        "df.to_csv('Lhr_Student_94.csv', index=False)\n",
        "\n",
        "# Display the DataFrame\n",
        "#print(df)"
      ],
      "metadata": {
        "colab": {
          "base_uri": "https://localhost:8080/"
        },
        "id": "C1tPBNGRJZcy",
        "outputId": "91620fce-d63c-4994-9e03-4e05f0687c31"
      },
      "execution_count": 47,
      "outputs": [
        {
          "output_type": "stream",
          "name": "stderr",
          "text": [
            "<ipython-input-47-71c548da4295>:9: FutureWarning: In a future version of pandas all arguments of StringMethods.split except for the argument 'pat' will be keyword-only.\n",
            "  df[['First Name', 'Last Name']] = df['St_Name'].str.split(' ', 1, expand=True)\n"
          ]
        }
      ]
    },
    {
      "cell_type": "code",
      "source": [
        "def split_names(full_name):\n",
        "    names = full_name.split()\n",
        "    if len(names) > 1:\n",
        "        student_name = ' '.join(names[:-1])\n",
        "        father_name = names[-1]\n",
        "    else:\n",
        "        student_name = full_name\n",
        "        father_name = ''\n",
        "    return student_name, father_name\n",
        "\n",
        "df[['Student Name', 'Father Name']] = df['St_Name'].apply(split_names).apply(pd.Series)\n",
        "df.drop(['St_Name'], axis=1,inplace=True)\n",
        "df[['Father Name', 'Grand Father Name']] = df['Father_Name'].apply(split_names).apply(pd.Series)\n",
        "df.drop(['Father_Name'], axis=1,inplace=True)\n",
        "# Write the DataFrame with the new columns to a CSV file\n",
        "#df.to_csv('Lhr_Student_94.csv', index=False)\n",
        "df['City_name'] = df['Address'].str.split().str[-1]\n",
        "#df['Gender'] = df['Gender'].replace({0: 'M', 1: 'F'})\n",
        "df['Gender'] = df['Gender'].apply(lambda x: 'M' if x == 0 else 'F' if x == 1 else x)\n",
        "df.to_csv('Lhr_Student_94.csv', index=False)\n",
        "\n",
        "\n",
        "#Mam there is no need for yearb and yearr so I am commenting it.\n",
        "#df['Yearb'] = df['Date of Birth'].str.split('-').str[-1]\n",
        "#df['Yearr'] = df['Reg Date'].str.split('-').str[-1]"
      ],
      "metadata": {
        "id": "ZmcVQt8PJO5I"
      },
      "execution_count": 48,
      "outputs": []
    },
    {
      "cell_type": "code",
      "source": [
        "# Convert 'Date of Birth' and 'Reg Date' to datetime objects\n",
        "df['Date of Birth'] = pd.to_datetime(df['Date of Birth'], errors='coerce')\n",
        "df['Reg Date'] = pd.to_datetime(df['Reg Date'], errors='coerce')\n",
        "\n",
        "# Function to swap dates if 'Date of Birth' is greater than 'Reg Date'\n",
        "def swap_dates(row):\n",
        "    if pd.notnull(row['Date of Birth']) and pd.notnull(row['Reg Date']):\n",
        "        if row['Date of Birth'] > row['Reg Date']:\n",
        "            temp = row['Date of Birth']\n",
        "            row['Date of Birth'] = row['Reg Date']\n",
        "            row['Reg Date'] = temp\n",
        "    return row\n",
        "\n",
        "# Apply the function to each row\n",
        "df = df.apply(swap_dates, axis=1)\n",
        "\n",
        "# Drop the 'check' column if it exists\n",
        "df.drop('check', axis=1, errors='ignore', inplace=True)\n",
        "\n",
        "# Save the updated DataFrame to 'Lhr_Student_94.csv'\n",
        "df.to_csv('/content/drive/MyDrive/assignment_!/Lhr_Student_94.csv', index=False)\n"
      ],
      "metadata": {
        "id": "7pjeKATEK5U0"
      },
      "execution_count": 49,
      "outputs": []
    },
    {
      "cell_type": "code",
      "source": [
        "\n",
        "num_rows, num_columns = df.shape\n",
        "\n",
        "print(\"Number of rows in student data frame:\", num_rows)\n",
        "print(\"Number of columns in student data frame:\", num_columns)\n",
        "\n",
        "\n",
        "num_rows2, num_columns2 = df2.shape\n",
        "\n",
        "print(\"Number of rows detail data frame:\", num_rows2)\n",
        "print(\"Number of columns in detail data frame:\", num_columns2)\n",
        "\n",
        "print(df.columns)\n",
        "print(df2.columns)\n"
      ],
      "metadata": {
        "colab": {
          "base_uri": "https://localhost:8080/"
        },
        "id": "3_iw6ISHTpex",
        "outputId": "9c5b96b3-2f35-4c04-89af-ccd9e80a296f"
      },
      "execution_count": 50,
      "outputs": [
        {
          "output_type": "stream",
          "name": "stdout",
          "text": [
            "Number of rows in student data frame: 400\n",
            "Number of columns in student data frame: 14\n",
            "Number of rows detail data frame: 19200\n",
            "Number of columns in detail data frame: 6\n",
            "Index(['SID', 'Gender', 'Address', 'Date of Birth', 'Reg Date', 'Reg Status',\n",
            "       'Degree Status', 'Last Degree', 'First Name', 'Last Name',\n",
            "       'Student Name', 'Father Name', 'Grand Father Name', 'City_name'],\n",
            "      dtype='object')\n",
            "Index(['SID', 'Degree', 'Semester', 'Course', 'Marks', 'Discipline'], dtype='object')\n"
          ]
        }
      ]
    },
    {
      "cell_type": "code",
      "source": [
        "# Number of unique values for each column in df\n",
        "unique_values_df = df.nunique()\n",
        "\n",
        "# Number of unique values for each column in df2\n",
        "unique_values_df2 = df2.nunique()\n",
        "\n",
        "print(\"Number of unique values in each column for Lhr_Student_94:\")\n",
        "print(unique_values_df)\n",
        "\n",
        "print(\"\\nNumber of unique values in each column for Lhr_Detail_94:\")\n",
        "print(unique_values_df2)\n"
      ],
      "metadata": {
        "colab": {
          "base_uri": "https://localhost:8080/"
        },
        "id": "xqnWm1DJSmzK",
        "outputId": "5002793b-f85e-4372-bd14-86345b7beb25"
      },
      "execution_count": 51,
      "outputs": [
        {
          "output_type": "stream",
          "name": "stdout",
          "text": [
            "Number of unique values in each column for Lhr_Student_94:\n",
            "SID                  400\n",
            "Gender                 2\n",
            "Address              400\n",
            "Date of Birth        305\n",
            "Reg Date              30\n",
            "Reg Status             1\n",
            "Degree Status          1\n",
            "Last Degree            6\n",
            "First Name           262\n",
            "Last Name            283\n",
            "Student Name         352\n",
            "Father Name          350\n",
            "Grand Father Name    123\n",
            "City_name             20\n",
            "dtype: int64\n",
            "\n",
            "Number of unique values in each column for Lhr_Detail_94:\n",
            "SID           400\n",
            "Degree          1\n",
            "Semester        8\n",
            "Course         89\n",
            "Marks          50\n",
            "Discipline      4\n",
            "dtype: int64\n"
          ]
        }
      ]
    },
    {
      "cell_type": "code",
      "source": [
        "# Number of null values for each column in df\n",
        "null_values_df = df.isnull().sum()\n",
        "\n",
        "# Number of null values for each column in df2\n",
        "null_values_df2 = df2.isnull().sum()\n",
        "\n",
        "print(\"Number of null values in each column for Lhr_Student_94:\")\n",
        "print(null_values_df)\n",
        "\n",
        "print(\"\\nNumber of null values in each column for Lhr_Detail_94:\")\n",
        "print(null_values_df2)\n"
      ],
      "metadata": {
        "colab": {
          "base_uri": "https://localhost:8080/"
        },
        "id": "B4WEttopVaw6",
        "outputId": "ef25f511-7a9a-4fd0-eb7b-90a851c3c7f2"
      },
      "execution_count": 52,
      "outputs": [
        {
          "output_type": "stream",
          "name": "stdout",
          "text": [
            "Number of null values in each column for Lhr_Student_94:\n",
            "SID                  0\n",
            "Gender               0\n",
            "Address              0\n",
            "Date of Birth        0\n",
            "Reg Date             0\n",
            "Reg Status           0\n",
            "Degree Status        0\n",
            "Last Degree          0\n",
            "First Name           0\n",
            "Last Name            0\n",
            "Student Name         0\n",
            "Father Name          0\n",
            "Grand Father Name    0\n",
            "City_name            0\n",
            "dtype: int64\n",
            "\n",
            "Number of null values in each column for Lhr_Detail_94:\n",
            "SID           0\n",
            "Degree        0\n",
            "Semester      0\n",
            "Course        0\n",
            "Marks         0\n",
            "Discipline    0\n",
            "dtype: int64\n"
          ]
        }
      ]
    },
    {
      "cell_type": "code",
      "source": [
        "#invalid data for For Numeric Columns:\n",
        "# Numeric columns in df\n",
        "numeric_columns_df = df.select_dtypes(include=['number'])\n",
        "\n",
        "# Check for negative values or other specific criteria (customize based on your dataset)\n",
        "invalid_numeric_values_df = numeric_columns_df[numeric_columns_df < 0].dropna()\n",
        "\n",
        "# Numeric columns in df2\n",
        "numeric_columns_df2 = df2.select_dtypes(include=['number'])\n",
        "\n",
        "# Check for negative values or other specific criteria (customize based on your dataset)\n",
        "invalid_numeric_values_df2 = numeric_columns_df2[numeric_columns_df2 < 0].dropna()\n",
        "\n",
        "print(\"Invalid numeric values in Lhr_Student_94:\")\n",
        "print(invalid_numeric_values_df)\n",
        "\n",
        "print(\"\\nInvalid numeric values in Lhr_Detail_94:\")\n",
        "print(invalid_numeric_values_df2)\n"
      ],
      "metadata": {
        "colab": {
          "base_uri": "https://localhost:8080/"
        },
        "id": "CBG7bGSsVvJl",
        "outputId": "417dcd05-9ae1-4d63-b39c-e7d6b97237ec"
      },
      "execution_count": 53,
      "outputs": [
        {
          "output_type": "stream",
          "name": "stdout",
          "text": [
            "Invalid numeric values in Lhr_Student_94:\n",
            "Empty DataFrame\n",
            "Columns: [SID]\n",
            "Index: []\n",
            "\n",
            "Invalid numeric values in Lhr_Detail_94:\n",
            "Empty DataFrame\n",
            "Columns: [SID, Marks]\n",
            "Index: []\n"
          ]
        }
      ]
    },
    {
      "cell_type": "code",
      "source": [
        "#invalid data for categorical columns:\n",
        "# Get all unique values in each categorical column as valid categories for df\n",
        "valid_categories_df = {col: df[col].unique() for col in df.select_dtypes(include=['object']).columns}\n",
        "\n",
        "# Check for invalid categorical values in df\n",
        "invalid_categorical_values_df = {col: df[~df[col].isin(valid_categories_df[col])] for col in valid_categories_df}\n",
        "\n",
        "# Get all unique values in each categorical column as valid categories for df2\n",
        "valid_categories_df2 = {col: df2[col].unique() for col in df2.select_dtypes(include=['object']).columns}\n",
        "\n",
        "# Check for invalid categorical values in df2\n",
        "invalid_categorical_values_df2 = {col: df2[~df2[col].isin(valid_categories_df2[col])] for col in valid_categories_df2}\n",
        "\n",
        "print(\"Invalid categorical values in df:\")\n",
        "print(invalid_categorical_values_df)\n",
        "\n",
        "print(\"\\nInvalid categorical values in df2:\")\n",
        "print(invalid_categorical_values_df2)\n",
        "\n"
      ],
      "metadata": {
        "colab": {
          "base_uri": "https://localhost:8080/"
        },
        "id": "VmMd0I0uWaJc",
        "outputId": "27cbd8c7-3252-46f6-b0cf-ddfe5a063ac7"
      },
      "execution_count": 54,
      "outputs": [
        {
          "output_type": "stream",
          "name": "stdout",
          "text": [
            "Invalid categorical values in df:\n",
            "{'Gender': Empty DataFrame\n",
            "Columns: [SID, Gender, Address, Date of Birth, Reg Date, Reg Status, Degree Status, Last Degree, First Name, Last Name, Student Name, Father Name, Grand Father Name, City_name]\n",
            "Index: [], 'Address': Empty DataFrame\n",
            "Columns: [SID, Gender, Address, Date of Birth, Reg Date, Reg Status, Degree Status, Last Degree, First Name, Last Name, Student Name, Father Name, Grand Father Name, City_name]\n",
            "Index: [], 'Reg Status': Empty DataFrame\n",
            "Columns: [SID, Gender, Address, Date of Birth, Reg Date, Reg Status, Degree Status, Last Degree, First Name, Last Name, Student Name, Father Name, Grand Father Name, City_name]\n",
            "Index: [], 'Degree Status': Empty DataFrame\n",
            "Columns: [SID, Gender, Address, Date of Birth, Reg Date, Reg Status, Degree Status, Last Degree, First Name, Last Name, Student Name, Father Name, Grand Father Name, City_name]\n",
            "Index: [], 'Last Degree': Empty DataFrame\n",
            "Columns: [SID, Gender, Address, Date of Birth, Reg Date, Reg Status, Degree Status, Last Degree, First Name, Last Name, Student Name, Father Name, Grand Father Name, City_name]\n",
            "Index: [], 'First Name': Empty DataFrame\n",
            "Columns: [SID, Gender, Address, Date of Birth, Reg Date, Reg Status, Degree Status, Last Degree, First Name, Last Name, Student Name, Father Name, Grand Father Name, City_name]\n",
            "Index: [], 'Last Name': Empty DataFrame\n",
            "Columns: [SID, Gender, Address, Date of Birth, Reg Date, Reg Status, Degree Status, Last Degree, First Name, Last Name, Student Name, Father Name, Grand Father Name, City_name]\n",
            "Index: [], 'Student Name': Empty DataFrame\n",
            "Columns: [SID, Gender, Address, Date of Birth, Reg Date, Reg Status, Degree Status, Last Degree, First Name, Last Name, Student Name, Father Name, Grand Father Name, City_name]\n",
            "Index: [], 'Father Name': Empty DataFrame\n",
            "Columns: [SID, Gender, Address, Date of Birth, Reg Date, Reg Status, Degree Status, Last Degree, First Name, Last Name, Student Name, Father Name, Grand Father Name, City_name]\n",
            "Index: [], 'Grand Father Name': Empty DataFrame\n",
            "Columns: [SID, Gender, Address, Date of Birth, Reg Date, Reg Status, Degree Status, Last Degree, First Name, Last Name, Student Name, Father Name, Grand Father Name, City_name]\n",
            "Index: [], 'City_name': Empty DataFrame\n",
            "Columns: [SID, Gender, Address, Date of Birth, Reg Date, Reg Status, Degree Status, Last Degree, First Name, Last Name, Student Name, Father Name, Grand Father Name, City_name]\n",
            "Index: []}\n",
            "\n",
            "Invalid categorical values in df2:\n",
            "{'Degree': Empty DataFrame\n",
            "Columns: [SID, Degree, Semester, Course, Marks, Discipline]\n",
            "Index: [], 'Semester': Empty DataFrame\n",
            "Columns: [SID, Degree, Semester, Course, Marks, Discipline]\n",
            "Index: [], 'Course': Empty DataFrame\n",
            "Columns: [SID, Degree, Semester, Course, Marks, Discipline]\n",
            "Index: [], 'Discipline': Empty DataFrame\n",
            "Columns: [SID, Degree, Semester, Course, Marks, Discipline]\n",
            "Index: []}\n"
          ]
        }
      ]
    },
    {
      "cell_type": "code",
      "source": [
        "# Total number of unique courses in df2\n",
        "total_courses = df2['Course'].nunique()\n",
        "\n",
        "print(\"Total number of courses in Lrh_Detail is:\", total_courses)\n"
      ],
      "metadata": {
        "colab": {
          "base_uri": "https://localhost:8080/"
        },
        "id": "2-b-3lT9Wvsj",
        "outputId": "ecb6e25c-78ba-4eaa-aba4-03c433771107"
      },
      "execution_count": 55,
      "outputs": [
        {
          "output_type": "stream",
          "name": "stdout",
          "text": [
            "Total number of courses in Lrh_Detail is: 89\n"
          ]
        }
      ]
    },
    {
      "cell_type": "code",
      "source": [
        "# Count the number of female students (Gender == 'F')\n",
        "female_students = df[df['Gender'] == 'F']['Gender'].count()\n",
        "\n",
        "# Count the number of male students (Gender == 'M')\n",
        "male_students = df[df['Gender'] == 'M']['Gender'].count()\n",
        "\n",
        "print(\"Total number of female students:\", female_students)\n",
        "print(\"Total number of male students:\", male_students)\n"
      ],
      "metadata": {
        "colab": {
          "base_uri": "https://localhost:8080/"
        },
        "id": "WJgTEt0WXhD7",
        "outputId": "aa21659c-0062-487e-a53d-bc9ec349467e"
      },
      "execution_count": 56,
      "outputs": [
        {
          "output_type": "stream",
          "name": "stdout",
          "text": [
            "Total number of female students: 131\n",
            "Total number of male students: 269\n"
          ]
        }
      ]
    },
    {
      "cell_type": "code",
      "source": [
        "# Group by 'SID' and 'Semester', count the number of unique courses taken in each semester\n",
        "courses_per_semester = df2.groupby(['SID', 'Semester'])['Course'].nunique().reset_index()\n",
        "\n",
        "# Count the number of people who have taken more than 5 courses in a semester\n",
        "people_more_than_5_courses = courses_per_semester[courses_per_semester['Course'] > 5]['SID'].nunique()\n",
        "\n",
        "print(\"Total number of people who have taken more than 5 courses in a semester:\", people_more_than_5_courses)\n"
      ],
      "metadata": {
        "colab": {
          "base_uri": "https://localhost:8080/"
        },
        "id": "aEZtWR-CX0_O",
        "outputId": "95cdadd9-bc97-470f-e691-34452252cc0e"
      },
      "execution_count": 57,
      "outputs": [
        {
          "output_type": "stream",
          "name": "stdout",
          "text": [
            "Total number of people who have taken more than 5 courses in a semester: 400\n"
          ]
        }
      ]
    },
    {
      "cell_type": "code",
      "source": [
        "# Total number of unique student IDs\n",
        "unique_sids = df['SID'].nunique()\n",
        "\n",
        "# Total number of students\n",
        "total_students = len(df)\n",
        "\n",
        "print(\"Total number of unique student IDs:\", unique_sids)\n",
        "print(\"Total number of students:\", total_students)\n",
        "\n",
        "# Calculate the relationship as a percentage\n",
        "relationship_percentage = (unique_sids / total_students) * 100\n",
        "print(\"Relationship percentage: {:.2f}%\".format(relationship_percentage))\n"
      ],
      "metadata": {
        "colab": {
          "base_uri": "https://localhost:8080/"
        },
        "id": "bHzFacDRYPeL",
        "outputId": "0e0fce2a-0f07-4289-8002-89e047df9126"
      },
      "execution_count": 58,
      "outputs": [
        {
          "output_type": "stream",
          "name": "stdout",
          "text": [
            "Total number of unique student IDs: 400\n",
            "Total number of students: 400\n",
            "Relationship percentage: 100.00%\n"
          ]
        }
      ]
    },
    {
      "cell_type": "code",
      "source": [
        "# Merge df2 with df based on the 'SID' column to include 'City_name' in df2\n",
        "merged_df2 = df2.merge(df[['SID', 'City_name']], on='SID', how='left')\n",
        "\n",
        "# Group by 'Semester' and 'City_name' from merged_df2, count the number of unique students in each semester for each campus\n",
        "people_per_semester_per_campus = merged_df2.groupby(['Semester', 'City_name'])['SID'].nunique().reset_index()\n",
        "\n",
        "# Calculate the average number of people per semester for each campus\n",
        "average_people_per_semester_per_campus = people_per_semester_per_campus.groupby('City_name')['SID'].mean()\n",
        "\n",
        "print(\"Average number of people per semester for each campus:\")\n",
        "print(average_people_per_semester_per_campus)\n"
      ],
      "metadata": {
        "colab": {
          "base_uri": "https://localhost:8080/"
        },
        "id": "kCpLhZtfYngc",
        "outputId": "8c1ec438-8386-42b5-dcea-52ec05a1b031"
      },
      "execution_count": 60,
      "outputs": [
        {
          "output_type": "stream",
          "name": "stdout",
          "text": [
            "Average number of people per semester for each campus:\n",
            "City_name\n",
            "Bahawalpur    19.0\n",
            "Bhatian       19.0\n",
            "Bhawalpur     18.0\n",
            "Faisalabad    19.0\n",
            "Gujrat        17.0\n",
            "Gujrawala     18.0\n",
            "Hakim         19.0\n",
            "Jehlum        16.0\n",
            "Kabirwala     19.0\n",
            "Khan          54.0\n",
            "Kharian       17.0\n",
            "LalaMusa      18.0\n",
            "Melsi         19.0\n",
            "Multan        18.0\n",
            "Sahiwal       19.0\n",
            "Sargodha      16.0\n",
            "Shekhopura    19.0\n",
            "Sialkot       18.0\n",
            "Wazirabad     19.0\n",
            "khan          19.0\n",
            "Name: SID, dtype: float64\n"
          ]
        }
      ]
    },
    {
      "cell_type": "code",
      "source": [
        "# Convert 'Reg Date' to string and then extract year and calculate the batch\n",
        "df['Batch'] = pd.to_datetime(df['Reg Date']).dt.year\n",
        "\n",
        "# Group by 'City_name' and 'Batch', count the number of unique students in each batch for each campus\n",
        "students_per_batch_per_campus = df.groupby(['City_name', 'Batch'])['SID'].nunique().reset_index()\n",
        "\n",
        "# Calculate the average number of students in every batch for each campus\n",
        "average_students_per_batch_per_campus = students_per_batch_per_campus.groupby('City_name')['SID'].mean()\n",
        "\n",
        "print(\"Average number of students in every batch for each campus:\")\n",
        "print(average_students_per_batch_per_campus)\n"
      ],
      "metadata": {
        "colab": {
          "base_uri": "https://localhost:8080/"
        },
        "id": "Rb1Wh46yZD2Q",
        "outputId": "ecad1b1a-db24-4277-ef08-2b2a21f968d5"
      },
      "execution_count": 62,
      "outputs": [
        {
          "output_type": "stream",
          "name": "stdout",
          "text": [
            "Average number of students in every batch for each campus:\n",
            "City_name\n",
            "Bahawalpur     9.5\n",
            "Bhatian       19.0\n",
            "Bhawalpur     18.0\n",
            "Faisalabad    19.0\n",
            "Gujrat        17.0\n",
            "Gujrawala     18.0\n",
            "Hakim         19.0\n",
            "Jehlum        16.0\n",
            "Kabirwala     19.0\n",
            "Khan          54.0\n",
            "Kharian       17.0\n",
            "LalaMusa      18.0\n",
            "Melsi         19.0\n",
            "Multan        18.0\n",
            "Sahiwal       19.0\n",
            "Sargodha      16.0\n",
            "Shekhopura    19.0\n",
            "Sialkot       18.0\n",
            "Wazirabad     19.0\n",
            "khan          19.0\n",
            "Name: SID, dtype: float64\n"
          ]
        }
      ]
    },
    {
      "cell_type": "code",
      "source": [],
      "metadata": {
        "id": "7j35rDu6aq_I"
      },
      "execution_count": null,
      "outputs": []
    }
  ]
}